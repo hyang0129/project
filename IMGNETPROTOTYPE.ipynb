{
  "nbformat": 4,
  "nbformat_minor": 0,
  "metadata": {
    "colab": {
      "name": "IMGNETPROTOTYPE.ipynb",
      "provenance": [],
      "collapsed_sections": [],
      "authorship_tag": "ABX9TyOumhn7LghL2gAudyQ9q1b9",
      "include_colab_link": true
    },
    "kernelspec": {
      "name": "python3",
      "display_name": "Python 3"
    }
  },
  "cells": [
    {
      "cell_type": "markdown",
      "metadata": {
        "id": "view-in-github",
        "colab_type": "text"
      },
      "source": [
        "<a href=\"https://colab.research.google.com/github/hyang0129/project/blob/main/IMGNETPROTOTYPE.ipynb\" target=\"_parent\"><img src=\"https://colab.research.google.com/assets/colab-badge.svg\" alt=\"Open In Colab\"/></a>"
      ]
    },
    {
      "cell_type": "markdown",
      "metadata": {
        "id": "_IVSuOCWNxf_"
      },
      "source": [
        "# SETUP"
      ]
    },
    {
      "cell_type": "code",
      "metadata": {
        "id": "chyHh79ioXxu"
      },
      "source": [
        "import math, re, os\r\n",
        "import numpy as np\r\n",
        "import pandas as pd\r\n",
        "from matplotlib import pyplot as plt\r\n",
        "import tensorflow as tf\r\n",
        "import tensorflow.keras.layers as L\r\n",
        "from sklearn import metrics\r\n",
        "from sklearn.model_selection import train_test_split, KFold\r\n",
        "import cv2\r\n",
        "import tensorflow_addons as tfa\r\n",
        "import PIL\r\n",
        "import tensorflow.keras.backend as K\r\n",
        "from tqdm.notebook import tqdm\r\n",
        "import tensorflow_datasets as tfds\r\n",
        "\r\n"
      ],
      "execution_count": 2,
      "outputs": []
    },
    {
      "cell_type": "markdown",
      "metadata": {
        "id": "Tth5AIjVNzjd"
      },
      "source": [
        "# HYPER PARAMETERS"
      ]
    },
    {
      "cell_type": "code",
      "metadata": {
        "colab": {
          "base_uri": "https://localhost:8080/"
        },
        "id": "jAcRKNX9N0ni",
        "outputId": "775097da-6f8f-4e45-fb30-bea1b33fbe93"
      },
      "source": [
        "class P():\r\n",
        "    epochs = 100 \r\n",
        "    net_input_dim = (224, 224, 3) \r\n",
        "    batch_size = 256\r\n",
        "    num_train_img = 1,281,167\r\n"
      ],
      "execution_count": 5,
      "outputs": [
        {
          "output_type": "execute_result",
          "data": {
            "text/plain": [
              "100"
            ]
          },
          "metadata": {
            "tags": []
          },
          "execution_count": 5
        }
      ]
    },
    {
      "cell_type": "markdown",
      "metadata": {
        "id": "-va4z2q1PJ_Y"
      },
      "source": [
        "# DATASET DEFINITION"
      ]
    },
    {
      "cell_type": "markdown",
      "metadata": {
        "id": "K1SL8xbKPMq3"
      },
      "source": [
        "## AUGMENTATION"
      ]
    },
    {
      "cell_type": "code",
      "metadata": {
        "id": "rkK-qxQ1POeJ"
      },
      "source": [
        "def augment_image(example):\r\n",
        "\r\n",
        "    image = example['image']\r\n",
        "\r\n",
        "    # image = random_size(image)\r\n",
        "    image = tf.image.random_crop(image, P.net_input_dim)\r\n",
        "    image = tf.image.random_flip_left_right(tf.image.random_flip_up_down(image))\r\n",
        "\r\n",
        "    example['image'] = image \r\n",
        "\r\n",
        "    return image \r\n"
      ],
      "execution_count": null,
      "outputs": []
    },
    {
      "cell_type": "markdown",
      "metadata": {
        "id": "x5y1rTa0PPa3"
      },
      "source": [
        "## DATASET PREPARATION"
      ]
    },
    {
      "cell_type": "code",
      "metadata": {
        "id": "P0JYFKWFPR9-"
      },
      "source": [
        "def get_dataset(ds, augment = False, shuffle = False, batch = False): \r\n",
        "\r\n",
        "    "
      ],
      "execution_count": null,
      "outputs": []
    },
    {
      "cell_type": "markdown",
      "metadata": {
        "id": "MVYmrUWpPVG_"
      },
      "source": [
        "## DATA SAMPLES"
      ]
    },
    {
      "cell_type": "code",
      "metadata": {
        "id": "X26jQJNjPL7_"
      },
      "source": [
        ""
      ],
      "execution_count": null,
      "outputs": []
    },
    {
      "cell_type": "code",
      "metadata": {
        "colab": {
          "base_uri": "https://localhost:8080/"
        },
        "id": "evhQ0SCJoylu",
        "outputId": "5b3a76e2-960a-4fc4-a217-a329d1aab213"
      },
      "source": [
        "ds_train, ds_valid = tfds.load(name=\"imagenet2012\", \r\n",
        "                              split=[\"train\", \"validation\"], \r\n",
        "                              data_dir=\"gs://kaggledata2/imgnet\", \r\n",
        "                              builder_kwargs={\"version\": \"5.0.0\"},)\r\n",
        "\r\n"
      ],
      "execution_count": 4,
      "outputs": [
        {
          "output_type": "execute_result",
          "data": {
            "text/plain": [
              "{'file_name': <tf.Tensor: shape=(), dtype=string, numpy=b'n02097047_2079.JPEG'>,\n",
              " 'image': <tf.Tensor: shape=(375, 500, 3), dtype=uint8, numpy=\n",
              " array([[[205, 205, 197],\n",
              "         [203, 203, 195],\n",
              "         [203, 203, 195],\n",
              "         ...,\n",
              "         [120, 105, 102],\n",
              "         [122, 107, 104],\n",
              "         [122, 108, 105]],\n",
              " \n",
              "        [[205, 205, 197],\n",
              "         [203, 203, 195],\n",
              "         [203, 203, 195],\n",
              "         ...,\n",
              "         [128, 114, 111],\n",
              "         [127, 116, 114],\n",
              "         [129, 118, 116]],\n",
              " \n",
              "        [[206, 206, 198],\n",
              "         [204, 204, 196],\n",
              "         [203, 203, 195],\n",
              "         ...,\n",
              "         [129, 119, 117],\n",
              "         [130, 120, 118],\n",
              "         [131, 121, 119]],\n",
              " \n",
              "        ...,\n",
              " \n",
              "        [[ 95,  67,  46],\n",
              "         [ 95,  64,  43],\n",
              "         [ 91,  61,  37],\n",
              "         ...,\n",
              "         [ 82,  47,  25],\n",
              "         [ 94,  59,  37],\n",
              "         [ 92,  57,  35]],\n",
              " \n",
              "        [[ 91,  60,  40],\n",
              "         [ 95,  64,  43],\n",
              "         [ 87,  57,  33],\n",
              "         ...,\n",
              "         [ 88,  53,  31],\n",
              "         [ 97,  62,  40],\n",
              "         [ 91,  56,  34]],\n",
              " \n",
              "        [[ 80,  49,  29],\n",
              "         [ 88,  57,  36],\n",
              "         [ 80,  52,  28],\n",
              "         ...,\n",
              "         [ 91,  56,  34],\n",
              "         [ 99,  64,  42],\n",
              "         [ 90,  55,  33]]], dtype=uint8)>,\n",
              " 'label': <tf.Tensor: shape=(), dtype=int64, numpy=196>}"
            ]
          },
          "metadata": {
            "tags": []
          },
          "execution_count": 4
        }
      ]
    },
    {
      "cell_type": "code",
      "metadata": {
        "id": "G8Fz8c_qpVlv"
      },
      "source": [
        ""
      ],
      "execution_count": null,
      "outputs": []
    }
  ]
}